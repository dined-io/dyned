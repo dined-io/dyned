{
 "cells": [
  {
   "cell_type": "code",
   "execution_count": 1,
   "metadata": {},
   "outputs": [],
   "source": [
    "import mysql.connector\n",
    "from mysql.connector import Error"
   ]
  },
  {
   "cell_type": "code",
   "execution_count": 2,
   "metadata": {},
   "outputs": [
    {
     "data": {
      "text/plain": [
       "True"
      ]
     },
     "execution_count": 2,
     "metadata": {},
     "output_type": "execute_result"
    }
   ],
   "source": [
    "from os import environ as env\n",
    "from dotenv import load_dotenv\n",
    "\n",
    "load_dotenv()"
   ]
  },
  {
   "cell_type": "code",
   "execution_count": 3,
   "metadata": {},
   "outputs": [
    {
     "name": "stdout",
     "output_type": "stream",
     "text": [
      "Error while connecting to MySQL 1045 (28000): Access denied for user 'jurra'@'localhost' (using password: YES)\n"
     ]
    },
    {
     "ename": "NameError",
     "evalue": "name 'connection' is not defined",
     "output_type": "error",
     "traceback": [
      "\u001b[0;31m---------------------------------------------------------------------------\u001b[0m",
      "\u001b[0;31mNameError\u001b[0m                                 Traceback (most recent call last)",
      "\u001b[1;32m/home/jurra/work/projects/2022-Dyned/repos/dyned/experiments/sql.ipynb Cell 3'\u001b[0m in \u001b[0;36m<cell line: 2>\u001b[0;34m()\u001b[0m\n\u001b[1;32m     <a href='vscode-notebook-cell:/home/jurra/work/projects/2022-Dyned/repos/dyned/experiments/sql.ipynb#ch0000002?line=15'>16</a>\u001b[0m     \u001b[39mprint\u001b[39m(\u001b[39m\"\u001b[39m\u001b[39mError while connecting to MySQL\u001b[39m\u001b[39m\"\u001b[39m, e)\n\u001b[1;32m     <a href='vscode-notebook-cell:/home/jurra/work/projects/2022-Dyned/repos/dyned/experiments/sql.ipynb#ch0000002?line=16'>17</a>\u001b[0m \u001b[39mfinally\u001b[39;00m:\n\u001b[0;32m---> <a href='vscode-notebook-cell:/home/jurra/work/projects/2022-Dyned/repos/dyned/experiments/sql.ipynb#ch0000002?line=17'>18</a>\u001b[0m     \u001b[39mif\u001b[39;00m connection\u001b[39m.\u001b[39mis_connected():\n\u001b[1;32m     <a href='vscode-notebook-cell:/home/jurra/work/projects/2022-Dyned/repos/dyned/experiments/sql.ipynb#ch0000002?line=18'>19</a>\u001b[0m         cursor\u001b[39m.\u001b[39mclose()\n\u001b[1;32m     <a href='vscode-notebook-cell:/home/jurra/work/projects/2022-Dyned/repos/dyned/experiments/sql.ipynb#ch0000002?line=19'>20</a>\u001b[0m         connection\u001b[39m.\u001b[39mclose()\n",
      "\u001b[0;31mNameError\u001b[0m: name 'connection' is not defined"
     ]
    }
   ],
   "source": [
    "# Test database connection\n",
    "try:\n",
    "    connection = mysql.connector.connect(host=env['DB_HOST'],\n",
    "                                         database=env['DB_NAME'],\n",
    "                                         user=env['DB_USER'],\n",
    "                                         password=env['DB_PWD'])\n",
    "    if connection.is_connected():\n",
    "        db_Info = connection.get_server_info()\n",
    "        print(\"Connected to MsQL Server version \", db_Info)\n",
    "        cursor = connection.cursor()\n",
    "        cursor.execute(\"select database();\")\n",
    "        record = cursor.fetchone()\n",
    "        print(\"You are connected to database: \", record)\n",
    "\n",
    "except Error as e:\n",
    "    print(\"Error while connecting to MySQL\", e)\n",
    "finally:\n",
    "    if connection.is_connected():\n",
    "        cursor.close()\n",
    "        connection.close()\n",
    "        print(\"MySQL connection is closed\")\n",
    "    "
   ]
  },
  {
   "cell_type": "code",
   "execution_count": null,
   "metadata": {},
   "outputs": [],
   "source": [
    "# Connect to the database\n",
    "def connect():\n",
    "    try:\n",
    "        connection = mysql.connector.connect(host=env['DB_HOST'],\n",
    "                                            database=env['DB_NAME'],\n",
    "                                            user=env['DB_USER'],\n",
    "                                            password=env['DB_PWD'])\n",
    "        if connection.is_connected():\n",
    "            db_Info = connection.get_server_info()\n",
    "            print(\"Connected to MsQL Server version \", db_Info)\n",
    "            cursor = connection.cursor()\n",
    "            cursor.execute(\"select database();\")\n",
    "            record = cursor.fetchone()\n",
    "            print(\"You are connected to database: \", record)\n",
    "\n",
    "    except Error as e:\n",
    "        print(\"Error while connecting to MySQL\", e)"
   ]
  },
  {
   "cell_type": "code",
   "execution_count": null,
   "metadata": {},
   "outputs": [],
   "source": [
    "def get_result(query):\n",
    "    connect()\n",
    "    cursor = connection.cursor()\n",
    "    cursor.execute(query)\n",
    "    return cursor.fetchall()\n"
   ]
  },
  {
   "cell_type": "code",
   "execution_count": 4,
   "metadata": {},
   "outputs": [
    {
     "ename": "NameError",
     "evalue": "name 'get_result' is not defined",
     "output_type": "error",
     "traceback": [
      "\u001b[0;31m---------------------------------------------------------------------------\u001b[0m",
      "\u001b[0;31mNameError\u001b[0m                                 Traceback (most recent call last)",
      "\u001b[1;32m/home/jurra/work/projects/2022-Dyned/repos/dyned/experiments/sql.ipynb Cell 6'\u001b[0m in \u001b[0;36m<cell line: 1>\u001b[0;34m()\u001b[0m\n\u001b[0;32m----> <a href='vscode-notebook-cell:/home/jurra/work/projects/2022-Dyned/repos/dyned/experiments/sql.ipynb#ch0000013?line=0'>1</a>\u001b[0m all_studies \u001b[39m=\u001b[39m get_result(\u001b[39m\"\"\"\u001b[39m\u001b[39mSELECT * from studies\u001b[39m\u001b[39m\"\"\"\u001b[39m)\n",
      "\u001b[0;31mNameError\u001b[0m: name 'get_result' is not defined"
     ]
    }
   ],
   "source": [
    "all_studies = get_result(\"\"\"SELECT * from studies\"\"\")"
   ]
  },
  {
   "cell_type": "code",
   "execution_count": null,
   "metadata": {},
   "outputs": [
    {
     "data": {
      "text/plain": [
       "<mysql.connector.cursor_cext.CMySQLCursor at 0x7f16e5c36be0>"
      ]
     },
     "execution_count": 77,
     "metadata": {},
     "output_type": "execute_result"
    }
   ],
   "source": [
    "all_studies"
   ]
  },
  {
   "cell_type": "code",
   "execution_count": null,
   "metadata": {},
   "outputs": [],
   "source": [
    "q_studies = \"\"\"SELECT * from studies\"\"\""
   ]
  },
  {
   "cell_type": "code",
   "execution_count": null,
   "metadata": {},
   "outputs": [
    {
     "name": "stdout",
     "output_type": "stream",
     "text": [
      "Connected to MsQL Server version  8.0.27-0ubuntu0.21.04.1\n",
      "You are connected to database:  ('homestead',)\n"
     ]
    },
    {
     "ename": "InternalError",
     "evalue": "Unread result found",
     "output_type": "error",
     "traceback": [
      "\u001b[0;31m---------------------------------------------------------------------------\u001b[0m",
      "\u001b[0;31mInternalError\u001b[0m                             Traceback (most recent call last)",
      "\u001b[1;32m/home/jurra/work/projects/2022-Dyned/repos/dyned/experiments/sql.ipynb Cell 9'\u001b[0m in \u001b[0;36m<cell line: 2>\u001b[0;34m()\u001b[0m\n\u001b[1;32m      <a href='vscode-notebook-cell:/home/jurra/work/projects/2022-Dyned/repos/dyned/experiments/sql.ipynb#ch0000007?line=0'>1</a>\u001b[0m connect()\n\u001b[0;32m----> <a href='vscode-notebook-cell:/home/jurra/work/projects/2022-Dyned/repos/dyned/experiments/sql.ipynb#ch0000007?line=1'>2</a>\u001b[0m cursor \u001b[39m=\u001b[39m connection\u001b[39m.\u001b[39;49mcursor()\n\u001b[1;32m      <a href='vscode-notebook-cell:/home/jurra/work/projects/2022-Dyned/repos/dyned/experiments/sql.ipynb#ch0000007?line=2'>3</a>\u001b[0m cursor\u001b[39m.\u001b[39mexecute(q_studies)\n\u001b[1;32m      <a href='vscode-notebook-cell:/home/jurra/work/projects/2022-Dyned/repos/dyned/experiments/sql.ipynb#ch0000007?line=3'>4</a>\u001b[0m records \u001b[39m=\u001b[39m cursor\u001b[39m.\u001b[39mfetchall()\n",
      "File \u001b[0;32m~/work/projects/2022-Dyned/repos/dyned/env/lib/python3.9/site-packages/mysql/connector/connection_cext.py:576\u001b[0m, in \u001b[0;36mCMySQLConnection.cursor\u001b[0;34m(self, buffered, raw, prepared, cursor_class, dictionary, named_tuple)\u001b[0m\n\u001b[1;32m    <a href='file:///home/jurra/work/projects/2022-Dyned/repos/dyned/env/lib/python3.9/site-packages/mysql/connector/connection_cext.py?line=545'>546</a>\u001b[0m \u001b[39mdef\u001b[39;00m \u001b[39mcursor\u001b[39m(\u001b[39mself\u001b[39m, buffered\u001b[39m=\u001b[39m\u001b[39mNone\u001b[39;00m, raw\u001b[39m=\u001b[39m\u001b[39mNone\u001b[39;00m, prepared\u001b[39m=\u001b[39m\u001b[39mNone\u001b[39;00m, cursor_class\u001b[39m=\u001b[39m\u001b[39mNone\u001b[39;00m,\n\u001b[1;32m    <a href='file:///home/jurra/work/projects/2022-Dyned/repos/dyned/env/lib/python3.9/site-packages/mysql/connector/connection_cext.py?line=546'>547</a>\u001b[0m            dictionary\u001b[39m=\u001b[39m\u001b[39mNone\u001b[39;00m, named_tuple\u001b[39m=\u001b[39m\u001b[39mNone\u001b[39;00m):\n\u001b[1;32m    <a href='file:///home/jurra/work/projects/2022-Dyned/repos/dyned/env/lib/python3.9/site-packages/mysql/connector/connection_cext.py?line=547'>548</a>\u001b[0m     \u001b[39m\"\"\"Instantiates and returns a cursor using C Extension\u001b[39;00m\n\u001b[1;32m    <a href='file:///home/jurra/work/projects/2022-Dyned/repos/dyned/env/lib/python3.9/site-packages/mysql/connector/connection_cext.py?line=548'>549</a>\u001b[0m \n\u001b[1;32m    <a href='file:///home/jurra/work/projects/2022-Dyned/repos/dyned/env/lib/python3.9/site-packages/mysql/connector/connection_cext.py?line=549'>550</a>\u001b[0m \u001b[39m    By default, CMySQLCursor is returned. Depending on the options\u001b[39;00m\n\u001b[0;32m   (...)\u001b[0m\n\u001b[1;32m    <a href='file:///home/jurra/work/projects/2022-Dyned/repos/dyned/env/lib/python3.9/site-packages/mysql/connector/connection_cext.py?line=573'>574</a>\u001b[0m \u001b[39m    :rtype: CMySQLCursor or subclass\u001b[39;00m\n\u001b[1;32m    <a href='file:///home/jurra/work/projects/2022-Dyned/repos/dyned/env/lib/python3.9/site-packages/mysql/connector/connection_cext.py?line=574'>575</a>\u001b[0m \u001b[39m    \"\"\"\u001b[39;00m\n\u001b[0;32m--> <a href='file:///home/jurra/work/projects/2022-Dyned/repos/dyned/env/lib/python3.9/site-packages/mysql/connector/connection_cext.py?line=575'>576</a>\u001b[0m     \u001b[39mself\u001b[39;49m\u001b[39m.\u001b[39;49mhandle_unread_result(prepared)\n\u001b[1;32m    <a href='file:///home/jurra/work/projects/2022-Dyned/repos/dyned/env/lib/python3.9/site-packages/mysql/connector/connection_cext.py?line=576'>577</a>\u001b[0m     \u001b[39mif\u001b[39;00m \u001b[39mnot\u001b[39;00m \u001b[39mself\u001b[39m\u001b[39m.\u001b[39mis_connected():\n\u001b[1;32m    <a href='file:///home/jurra/work/projects/2022-Dyned/repos/dyned/env/lib/python3.9/site-packages/mysql/connector/connection_cext.py?line=577'>578</a>\u001b[0m         \u001b[39mraise\u001b[39;00m errors\u001b[39m.\u001b[39mOperationalError(\u001b[39m\"\u001b[39m\u001b[39mMySQL Connection not available.\u001b[39m\u001b[39m\"\u001b[39m)\n",
      "File \u001b[0;32m~/work/projects/2022-Dyned/repos/dyned/env/lib/python3.9/site-packages/mysql/connector/connection_cext.py:794\u001b[0m, in \u001b[0;36mCMySQLConnection.handle_unread_result\u001b[0;34m(self, prepared)\u001b[0m\n\u001b[1;32m    <a href='file:///home/jurra/work/projects/2022-Dyned/repos/dyned/env/lib/python3.9/site-packages/mysql/connector/connection_cext.py?line=791'>792</a>\u001b[0m     \u001b[39mself\u001b[39m\u001b[39m.\u001b[39mconsume_results()\n\u001b[1;32m    <a href='file:///home/jurra/work/projects/2022-Dyned/repos/dyned/env/lib/python3.9/site-packages/mysql/connector/connection_cext.py?line=792'>793</a>\u001b[0m \u001b[39melif\u001b[39;00m unread_result:\n\u001b[0;32m--> <a href='file:///home/jurra/work/projects/2022-Dyned/repos/dyned/env/lib/python3.9/site-packages/mysql/connector/connection_cext.py?line=793'>794</a>\u001b[0m     \u001b[39mraise\u001b[39;00m errors\u001b[39m.\u001b[39mInternalError(\u001b[39m\"\u001b[39m\u001b[39mUnread result found\u001b[39m\u001b[39m\"\u001b[39m)\n",
      "\u001b[0;31mInternalError\u001b[0m: Unread result found"
     ]
    }
   ],
   "source": [
    "connect()\n",
    "cursor = connection.cursor()\n",
    "cursor.execute(q_studies)\n",
    "records = cursor.fetchall()"
   ]
  },
  {
   "cell_type": "code",
   "execution_count": null,
   "metadata": {},
   "outputs": [
    {
     "name": "stdout",
     "output_type": "stream",
     "text": [
      "Id:  1\n"
     ]
    }
   ],
   "source": [
    "for row in records:\n",
    "    print(\"Id: \", row[0])\n",
    "    break"
   ]
  },
  {
   "cell_type": "code",
   "execution_count": null,
   "metadata": {},
   "outputs": [],
   "source": [
    "q_table_names = \"\"\"\"\"\""
   ]
  },
  {
   "cell_type": "code",
   "execution_count": null,
   "metadata": {},
   "outputs": [
    {
     "name": "stdout",
     "output_type": "stream",
     "text": [
      "Connected to MsQL Server version  8.0.27-0ubuntu0.21.04.1\n",
      "You are connected to database:  ('homestead',)\n"
     ]
    },
    {
     "ename": "ProgrammingError",
     "evalue": "1146 (42S02): Table 'homestead.table_name' doesn't exist",
     "output_type": "error",
     "traceback": [
      "\u001b[0;31m---------------------------------------------------------------------------\u001b[0m",
      "\u001b[0;31mMySQLInterfaceError\u001b[0m                       Traceback (most recent call last)",
      "File \u001b[0;32m~/work/projects/2022-Dyned/repos/dyned/env/lib/python3.9/site-packages/mysql/connector/connection_cext.py:523\u001b[0m, in \u001b[0;36mCMySQLConnection.cmd_query\u001b[0;34m(self, query, raw, buffered, raw_as_string)\u001b[0m\n\u001b[1;32m    <a href='file:///home/jurra/work/projects/2022-Dyned/repos/dyned/env/lib/python3.9/site-packages/mysql/connector/connection_cext.py?line=521'>522</a>\u001b[0m         query \u001b[39m=\u001b[39m query\u001b[39m.\u001b[39mencode(\u001b[39m'\u001b[39m\u001b[39mutf-8\u001b[39m\u001b[39m'\u001b[39m)\n\u001b[0;32m--> <a href='file:///home/jurra/work/projects/2022-Dyned/repos/dyned/env/lib/python3.9/site-packages/mysql/connector/connection_cext.py?line=522'>523</a>\u001b[0m     \u001b[39mself\u001b[39;49m\u001b[39m.\u001b[39;49m_cmysql\u001b[39m.\u001b[39;49mquery(query,\n\u001b[1;32m    <a href='file:///home/jurra/work/projects/2022-Dyned/repos/dyned/env/lib/python3.9/site-packages/mysql/connector/connection_cext.py?line=523'>524</a>\u001b[0m                        raw\u001b[39m=\u001b[39;49mraw, buffered\u001b[39m=\u001b[39;49mbuffered,\n\u001b[1;32m    <a href='file:///home/jurra/work/projects/2022-Dyned/repos/dyned/env/lib/python3.9/site-packages/mysql/connector/connection_cext.py?line=524'>525</a>\u001b[0m                        raw_as_string\u001b[39m=\u001b[39;49mraw_as_string,\n\u001b[1;32m    <a href='file:///home/jurra/work/projects/2022-Dyned/repos/dyned/env/lib/python3.9/site-packages/mysql/connector/connection_cext.py?line=525'>526</a>\u001b[0m                        query_attrs\u001b[39m=\u001b[39;49m\u001b[39mself\u001b[39;49m\u001b[39m.\u001b[39;49m_query_attrs)\n\u001b[1;32m    <a href='file:///home/jurra/work/projects/2022-Dyned/repos/dyned/env/lib/python3.9/site-packages/mysql/connector/connection_cext.py?line=526'>527</a>\u001b[0m \u001b[39mexcept\u001b[39;00m MySQLInterfaceError \u001b[39mas\u001b[39;00m exc:\n",
      "\u001b[0;31mMySQLInterfaceError\u001b[0m: Table 'homestead.table_name' doesn't exist",
      "\nDuring handling of the above exception, another exception occurred:\n",
      "\u001b[0;31mProgrammingError\u001b[0m                          Traceback (most recent call last)",
      "\u001b[1;32m/home/jurra/work/projects/2022-Dyned/repos/dyned/experiments/sql.ipynb Cell 9'\u001b[0m in \u001b[0;36m<cell line: 3>\u001b[0;34m()\u001b[0m\n\u001b[1;32m      <a href='vscode-notebook-cell:/home/jurra/work/projects/2022-Dyned/repos/dyned/experiments/sql.ipynb#ch0000011?line=0'>1</a>\u001b[0m connect()\n\u001b[1;32m      <a href='vscode-notebook-cell:/home/jurra/work/projects/2022-Dyned/repos/dyned/experiments/sql.ipynb#ch0000011?line=1'>2</a>\u001b[0m cursor \u001b[39m=\u001b[39m connection\u001b[39m.\u001b[39mcursor()\n\u001b[0;32m----> <a href='vscode-notebook-cell:/home/jurra/work/projects/2022-Dyned/repos/dyned/experiments/sql.ipynb#ch0000011?line=2'>3</a>\u001b[0m cursor\u001b[39m.\u001b[39;49mexecute(q_table_names)\n\u001b[1;32m      <a href='vscode-notebook-cell:/home/jurra/work/projects/2022-Dyned/repos/dyned/experiments/sql.ipynb#ch0000011?line=3'>4</a>\u001b[0m records \u001b[39m=\u001b[39m cursor\u001b[39m.\u001b[39mfetchall()\n",
      "File \u001b[0;32m~/work/projects/2022-Dyned/repos/dyned/env/lib/python3.9/site-packages/mysql/connector/cursor_cext.py:269\u001b[0m, in \u001b[0;36mCMySQLCursor.execute\u001b[0;34m(self, operation, params, multi)\u001b[0m\n\u001b[1;32m    <a href='file:///home/jurra/work/projects/2022-Dyned/repos/dyned/env/lib/python3.9/site-packages/mysql/connector/cursor_cext.py?line=264'>265</a>\u001b[0m             \u001b[39mraise\u001b[39;00m errors\u001b[39m.\u001b[39mProgrammingError(\n\u001b[1;32m    <a href='file:///home/jurra/work/projects/2022-Dyned/repos/dyned/env/lib/python3.9/site-packages/mysql/connector/cursor_cext.py?line=265'>266</a>\u001b[0m                 \u001b[39m\"\u001b[39m\u001b[39mNot all parameters were used in the SQL statement\u001b[39m\u001b[39m\"\u001b[39m)\n\u001b[1;32m    <a href='file:///home/jurra/work/projects/2022-Dyned/repos/dyned/env/lib/python3.9/site-packages/mysql/connector/cursor_cext.py?line=267'>268</a>\u001b[0m \u001b[39mtry\u001b[39;00m:\n\u001b[0;32m--> <a href='file:///home/jurra/work/projects/2022-Dyned/repos/dyned/env/lib/python3.9/site-packages/mysql/connector/cursor_cext.py?line=268'>269</a>\u001b[0m     result \u001b[39m=\u001b[39m \u001b[39mself\u001b[39;49m\u001b[39m.\u001b[39;49m_cnx\u001b[39m.\u001b[39;49mcmd_query(stmt, raw\u001b[39m=\u001b[39;49m\u001b[39mself\u001b[39;49m\u001b[39m.\u001b[39;49m_raw,\n\u001b[1;32m    <a href='file:///home/jurra/work/projects/2022-Dyned/repos/dyned/env/lib/python3.9/site-packages/mysql/connector/cursor_cext.py?line=269'>270</a>\u001b[0m                                  buffered\u001b[39m=\u001b[39;49m\u001b[39mself\u001b[39;49m\u001b[39m.\u001b[39;49m_buffered,\n\u001b[1;32m    <a href='file:///home/jurra/work/projects/2022-Dyned/repos/dyned/env/lib/python3.9/site-packages/mysql/connector/cursor_cext.py?line=270'>271</a>\u001b[0m                                  raw_as_string\u001b[39m=\u001b[39;49m\u001b[39mself\u001b[39;49m\u001b[39m.\u001b[39;49m_raw_as_string)\n\u001b[1;32m    <a href='file:///home/jurra/work/projects/2022-Dyned/repos/dyned/env/lib/python3.9/site-packages/mysql/connector/cursor_cext.py?line=271'>272</a>\u001b[0m \u001b[39mexcept\u001b[39;00m MySQLInterfaceError \u001b[39mas\u001b[39;00m exc:\n\u001b[1;32m    <a href='file:///home/jurra/work/projects/2022-Dyned/repos/dyned/env/lib/python3.9/site-packages/mysql/connector/cursor_cext.py?line=272'>273</a>\u001b[0m     \u001b[39mraise\u001b[39;00m errors\u001b[39m.\u001b[39mget_mysql_exception(msg\u001b[39m=\u001b[39mexc\u001b[39m.\u001b[39mmsg, errno\u001b[39m=\u001b[39mexc\u001b[39m.\u001b[39merrno,\n\u001b[1;32m    <a href='file:///home/jurra/work/projects/2022-Dyned/repos/dyned/env/lib/python3.9/site-packages/mysql/connector/cursor_cext.py?line=273'>274</a>\u001b[0m                                      sqlstate\u001b[39m=\u001b[39mexc\u001b[39m.\u001b[39msqlstate)\n",
      "File \u001b[0;32m~/work/projects/2022-Dyned/repos/dyned/env/lib/python3.9/site-packages/mysql/connector/connection_cext.py:528\u001b[0m, in \u001b[0;36mCMySQLConnection.cmd_query\u001b[0;34m(self, query, raw, buffered, raw_as_string)\u001b[0m\n\u001b[1;32m    <a href='file:///home/jurra/work/projects/2022-Dyned/repos/dyned/env/lib/python3.9/site-packages/mysql/connector/connection_cext.py?line=522'>523</a>\u001b[0m     \u001b[39mself\u001b[39m\u001b[39m.\u001b[39m_cmysql\u001b[39m.\u001b[39mquery(query,\n\u001b[1;32m    <a href='file:///home/jurra/work/projects/2022-Dyned/repos/dyned/env/lib/python3.9/site-packages/mysql/connector/connection_cext.py?line=523'>524</a>\u001b[0m                        raw\u001b[39m=\u001b[39mraw, buffered\u001b[39m=\u001b[39mbuffered,\n\u001b[1;32m    <a href='file:///home/jurra/work/projects/2022-Dyned/repos/dyned/env/lib/python3.9/site-packages/mysql/connector/connection_cext.py?line=524'>525</a>\u001b[0m                        raw_as_string\u001b[39m=\u001b[39mraw_as_string,\n\u001b[1;32m    <a href='file:///home/jurra/work/projects/2022-Dyned/repos/dyned/env/lib/python3.9/site-packages/mysql/connector/connection_cext.py?line=525'>526</a>\u001b[0m                        query_attrs\u001b[39m=\u001b[39m\u001b[39mself\u001b[39m\u001b[39m.\u001b[39m_query_attrs)\n\u001b[1;32m    <a href='file:///home/jurra/work/projects/2022-Dyned/repos/dyned/env/lib/python3.9/site-packages/mysql/connector/connection_cext.py?line=526'>527</a>\u001b[0m \u001b[39mexcept\u001b[39;00m MySQLInterfaceError \u001b[39mas\u001b[39;00m exc:\n\u001b[0;32m--> <a href='file:///home/jurra/work/projects/2022-Dyned/repos/dyned/env/lib/python3.9/site-packages/mysql/connector/connection_cext.py?line=527'>528</a>\u001b[0m     \u001b[39mraise\u001b[39;00m errors\u001b[39m.\u001b[39mget_mysql_exception(exc\u001b[39m.\u001b[39merrno, msg\u001b[39m=\u001b[39mexc\u001b[39m.\u001b[39mmsg,\n\u001b[1;32m    <a href='file:///home/jurra/work/projects/2022-Dyned/repos/dyned/env/lib/python3.9/site-packages/mysql/connector/connection_cext.py?line=528'>529</a>\u001b[0m                                      sqlstate\u001b[39m=\u001b[39mexc\u001b[39m.\u001b[39msqlstate)\n\u001b[1;32m    <a href='file:///home/jurra/work/projects/2022-Dyned/repos/dyned/env/lib/python3.9/site-packages/mysql/connector/connection_cext.py?line=529'>530</a>\u001b[0m \u001b[39mexcept\u001b[39;00m \u001b[39mAttributeError\u001b[39;00m:\n\u001b[1;32m    <a href='file:///home/jurra/work/projects/2022-Dyned/repos/dyned/env/lib/python3.9/site-packages/mysql/connector/connection_cext.py?line=530'>531</a>\u001b[0m     \u001b[39mif\u001b[39;00m \u001b[39mself\u001b[39m\u001b[39m.\u001b[39m_unix_socket:\n",
      "\u001b[0;31mProgrammingError\u001b[0m: 1146 (42S02): Table 'homestead.table_name' doesn't exist"
     ]
    }
   ],
   "source": [
    "connect()\n",
    "cursor = connection.cursor()\n",
    "cursor.execute(q_table_names)\n",
    "records = cursor.fetchall()"
   ]
  }
 ],
 "metadata": {
  "interpreter": {
   "hash": "075041684cdc4a85a1f571178af584009a5ef7466cc4aef5bb78ae878f194003"
  },
  "kernelspec": {
   "display_name": "Python 3.9.5 ('env': venv)",
   "language": "python",
   "name": "python3"
  },
  "language_info": {
   "codemirror_mode": {
    "name": "ipython",
    "version": 3
   },
   "file_extension": ".py",
   "mimetype": "text/x-python",
   "name": "python",
   "nbconvert_exporter": "python",
   "pygments_lexer": "ipython3",
   "version": "3.9.5"
  },
  "orig_nbformat": 4
 },
 "nbformat": 4,
 "nbformat_minor": 2
}
