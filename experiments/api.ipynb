{
 "cells": [
  {
   "cell_type": "code",
   "execution_count": 1,
   "metadata": {},
   "outputs": [],
   "source": [
    "# API call to dyned\n",
    "import json\n",
    "import requests\n",
    "import pandas as pd"
   ]
  },
  {
   "cell_type": "code",
   "execution_count": 2,
   "metadata": {},
   "outputs": [],
   "source": [
    "# https://dined.nl/api/measure-groups\n",
    "# https://dined.nl/api/studies/\n",
    "# https://dined.nl/api/measurements?study=15&measure=80\n",
    "# help(requests.get)"
   ]
  },
  {
   "cell_type": "code",
   "execution_count": 3,
   "metadata": {},
   "outputs": [],
   "source": [
    "# https://dined.nl/api/measure-groups\n",
    "# https://dined.nl/api/studies/\n",
    "# https://dined.nl/api/measurements?study=15&measure=80\n",
    "request = 'https://dined.nl/api/studies/'\n",
    "res = requests.get(request)\n",
    "\n",
    "# help(res.url)\n",
    "res = json.loads(res.content.decode('utf-8'))\n",
    "# print(json.dumps(res, indent=4, sort_keys=True))\n",
    "# Write data in a json file\n",
    "with open('studies.json', 'w') as outfile:\n",
    "    json.dump(res, outfile)\n",
    "    "
   ]
  },
  {
   "cell_type": "markdown",
   "metadata": {},
   "source": [
    "## !No need to load data at this point with dataframes this is mostly to explore"
   ]
  },
  {
   "cell_type": "code",
   "execution_count": 4,
   "metadata": {},
   "outputs": [
    {
     "data": {
      "text/html": [
       "<div>\n",
       "<style scoped>\n",
       "    .dataframe tbody tr th:only-of-type {\n",
       "        vertical-align: middle;\n",
       "    }\n",
       "\n",
       "    .dataframe tbody tr th {\n",
       "        vertical-align: top;\n",
       "    }\n",
       "\n",
       "    .dataframe thead th {\n",
       "        text-align: right;\n",
       "    }\n",
       "</style>\n",
       "<table border=\"1\" class=\"dataframe\">\n",
       "  <thead>\n",
       "    <tr style=\"text-align: right;\">\n",
       "      <th></th>\n",
       "      <th>id</th>\n",
       "      <th>name</th>\n",
       "      <th>description</th>\n",
       "      <th>created_at</th>\n",
       "      <th>updated_at</th>\n",
       "      <th>sort_position</th>\n",
       "      <th>code</th>\n",
       "      <th>publication_date</th>\n",
       "      <th>measurement_date</th>\n",
       "      <th>sources</th>\n",
       "      <th>people</th>\n",
       "      <th>publications</th>\n",
       "      <th>url</th>\n",
       "      <th>has_shape_data</th>\n",
       "      <th>isLocked</th>\n",
       "      <th>min_age</th>\n",
       "      <th>max_age</th>\n",
       "      <th>individuals_count</th>\n",
       "      <th>age_groups</th>\n",
       "      <th>measures</th>\n",
       "    </tr>\n",
       "  </thead>\n",
       "  <tbody>\n",
       "    <tr>\n",
       "      <th>0</th>\n",
       "      <td>1</td>\n",
       "      <td>Dutch elderly</td>\n",
       "      <td>This data was measured in 1982 in cooperation ...</td>\n",
       "      <td>2020-04-15 12:19:12+00:00</td>\n",
       "      <td>2020-04-15 12:25:12+00:00</td>\n",
       "      <td>7</td>\n",
       "      <td>gdvv1984</td>\n",
       "      <td>1984</td>\n",
       "      <td></td>\n",
       "      <td></td>\n",
       "      <td>- J.F.M. Molenbroek\\n- J.J. Houtkamp\\n- A.K.C....</td>\n",
       "      <td>- Anthropometry of elderly people in the Nethe...</td>\n",
       "      <td></td>\n",
       "      <td>False</td>\n",
       "      <td>1</td>\n",
       "      <td>53.0</td>\n",
       "      <td>106.0</td>\n",
       "      <td>822</td>\n",
       "      <td>[{'id': 48, 'sort_position': None, 'min_age': ...</td>\n",
       "      <td>[1, 2, 3, 4, 6, 9, 13, 14, 16, 17, 18, 21, 22,...</td>\n",
       "    </tr>\n",
       "  </tbody>\n",
       "</table>\n",
       "</div>"
      ],
      "text/plain": [
       "   id           name                                        description  \\\n",
       "0   1  Dutch elderly  This data was measured in 1982 in cooperation ...   \n",
       "\n",
       "                 created_at                updated_at  sort_position  \\\n",
       "0 2020-04-15 12:19:12+00:00 2020-04-15 12:25:12+00:00              7   \n",
       "\n",
       "       code publication_date measurement_date sources  \\\n",
       "0  gdvv1984             1984                            \n",
       "\n",
       "                                              people  \\\n",
       "0  - J.F.M. Molenbroek\\n- J.J. Houtkamp\\n- A.K.C....   \n",
       "\n",
       "                                        publications url  has_shape_data  \\\n",
       "0  - Anthropometry of elderly people in the Nethe...               False   \n",
       "\n",
       "   isLocked  min_age  max_age  individuals_count  \\\n",
       "0         1     53.0    106.0                822   \n",
       "\n",
       "                                          age_groups  \\\n",
       "0  [{'id': 48, 'sort_position': None, 'min_age': ...   \n",
       "\n",
       "                                            measures  \n",
       "0  [1, 2, 3, 4, 6, 9, 13, 14, 16, 17, 18, 21, 22,...  "
      ]
     },
     "execution_count": 4,
     "metadata": {},
     "output_type": "execute_result"
    }
   ],
   "source": [
    "df = pd.read_json('studies.json')\n",
    "df.head(1)"
   ]
  },
  {
   "cell_type": "code",
   "execution_count": 5,
   "metadata": {},
   "outputs": [
    {
     "data": {
      "text/plain": [
       "1"
      ]
     },
     "execution_count": 5,
     "metadata": {},
     "output_type": "execute_result"
    }
   ],
   "source": [
    "study = requests.get('https://dined.nl/api/studies/1')\n",
    "study = json.loads(study.content.decode('utf-8'))\n",
    "study['id'] \n",
    "# isinstance(study, dict)"
   ]
  },
  {
   "cell_type": "code",
   "execution_count": 6,
   "metadata": {},
   "outputs": [],
   "source": [
    "# df_nested_list = pd.json_normalize(df, record_path='age_groups')"
   ]
  },
  {
   "cell_type": "code",
   "execution_count": 7,
   "metadata": {},
   "outputs": [],
   "source": [
    "def age_groups(study):\n",
    "    request = 'https://dined.nl/api/studies/' + str(study)\n",
    "    res = requests.get(request)\n",
    "    res = json.loads(res.content.decode('utf-8'))\n",
    "    res = res.age_groups\n",
    "    return res"
   ]
  },
  {
   "cell_type": "markdown",
   "metadata": {},
   "source": [
    "# THE NEXT STEP IS TO PERFORM THE SAME CHAIR ANALYSIS USING DINED WEB API"
   ]
  },
  {
   "cell_type": "code",
   "execution_count": 8,
   "metadata": {},
   "outputs": [
    {
     "ename": "ModuleNotFoundError",
     "evalue": "No module named 'dined.one_d_data'",
     "output_type": "error",
     "traceback": [
      "\u001b[0;31m---------------------------------------------------------------------------\u001b[0m",
      "\u001b[0;31mModuleNotFoundError\u001b[0m                       Traceback (most recent call last)",
      "\u001b[1;32m/home/jurra/work/projects/2022-Dyned/repos/dyned/experiments/experiment.ipynb Cell 10'\u001b[0m in \u001b[0;36m<cell line: 1>\u001b[0;34m()\u001b[0m\n\u001b[0;32m----> <a href='vscode-notebook-cell:/home/jurra/work/projects/2022-Dyned/repos/dyned/experiments/experiment.ipynb#ch0000009?line=0'>1</a>\u001b[0m \u001b[39mimport\u001b[39;00m \u001b[39mdined\u001b[39;00m\u001b[39m.\u001b[39;00m\u001b[39mone_d_data\u001b[39;00m \u001b[39mas\u001b[39;00m \u001b[39mddata\u001b[39;00m\n",
      "\u001b[0;31mModuleNotFoundError\u001b[0m: No module named 'dined.one_d_data'"
     ]
    }
   ],
   "source": [
    "import dined.one_d_data as ddata"
   ]
  },
  {
   "cell_type": "code",
   "execution_count": null,
   "metadata": {},
   "outputs": [],
   "source": [
    "from requests.exceptions import HTTPError"
   ]
  },
  {
   "cell_type": "code",
   "execution_count": null,
   "metadata": {},
   "outputs": [],
   "source": [
    "BASE_URL = 'https://dined.nl/api/{endpoint}'"
   ]
  },
  {
   "cell_type": "code",
   "execution_count": null,
   "metadata": {},
   "outputs": [],
   "source": [
    "def raw_issue_request(method, url, data=None, binary=False):\n",
    "    \"\"\"\n",
    "    Issues a request to the dined API\n",
    "    \"\"\"\n",
    "\n",
    "    if data is not None and not binary:\n",
    "        data = json.dumps(data)\n",
    "    response = requests.request(method, url, data=data)\n",
    "    try:\n",
    "        response.raise_for_status()\n",
    "        try:\n",
    "            data = response\n",
    "        except ValueError:\n",
    "            data = response\n",
    "    except HTTPError as error:\n",
    "        print(f\"Caught an HTTPError: {error}\")\n",
    "        print(\"Body:\\n\", response.content)\n",
    "        raise\n",
    "    return data\n",
    "\n",
    "\n",
    "def issue_request(method, endpoint, *args, **kwargs):\n",
    "    \"\"\"\n",
    "    Issues a specific request to the dined API\n",
    "    \"\"\"\n",
    "    return raw_issue_request(\n",
    "        method, BASE_URL.format(endpoint=endpoint), *args, **kwargs\n",
    "    )"
   ]
  },
  {
   "cell_type": "code",
   "execution_count": null,
   "metadata": {},
   "outputs": [
    {
     "data": {
      "text/plain": [
       "<Response [200]>"
      ]
     },
     "execution_count": 12,
     "metadata": {},
     "output_type": "execute_result"
    }
   ],
   "source": [
    "raw_issue_request('GET', 'https://dined.nl/api/studies')"
   ]
  },
  {
   "cell_type": "code",
   "execution_count": null,
   "metadata": {},
   "outputs": [
    {
     "name": "stdout",
     "output_type": "stream",
     "text": [
      "https://dined.nl/api/studies\n"
     ]
    }
   ],
   "source": [
    "formatted_url = BASE_URL.format(endpoint='studies')\n",
    "print(formatted_url)"
   ]
  },
  {
   "cell_type": "code",
   "execution_count": null,
   "metadata": {},
   "outputs": [
    {
     "data": {
      "text/plain": [
       "<Response [200]>"
      ]
     },
     "execution_count": 14,
     "metadata": {},
     "output_type": "execute_result"
    }
   ],
   "source": [
    "issue_request('GET', 'studies')"
   ]
  },
  {
   "cell_type": "markdown",
   "metadata": {},
   "source": [
    "# About working with the api\n",
    "once you know the measure you want to get the individual values from, then you can use this: \n",
    "https://dined.nl/api/measurements?study=2&measure=80\n",
    "\n",
    "via https://dined.nl/api/studies you can figure out which measures are available in which studies\n",
    "\n",
    "## Idea to improve this\n",
    "People shouldnt have to know which measure=80 is. Instead they should be able to use a kind of little search engine to find measures and store them in a class or an object."
   ]
  },
  {
   "cell_type": "code",
   "execution_count": null,
   "metadata": {},
   "outputs": [],
   "source": [
    "# Get door design for ceasar database... (Replicate the same example)\n",
    "# We could create a database sample and then use the database to get the door design\n",
    "measurement_1 = ddata.issue_request('GET', 'measurements?study=2&measure=80')\n",
    "measurement_2 = ddata.issue_request('GET', 'measurements?study=2&measure=81')"
   ]
  },
  {
   "cell_type": "markdown",
   "metadata": {},
   "source": [
    "## Use case analysis\n",
    "- Select dimensions to work with\n",
    "- Find which dimensions are available in the target populations\n",
    "- Visualize guassian normal distribution plot, perhaps other types of plots per dimension\n",
    "- Generate a plot for each of these parameters"
   ]
  },
  {
   "cell_type": "markdown",
   "metadata": {},
   "source": [
    "## Abstractions\n",
    "\n",
    "```\n",
    "Story:\n",
    "A designer has to select some parameters to inform its design. \n",
    "These parameters will also influence what we call design parameters or influenced parameters\n",
    "\n",
    "\n",
    "Designing the class:\n",
    "1.Go through the nouns, looking for potential classes.          measurements, populations, design parameters \n",
    "2.Go through the verbs, looking for potential methods.          calculate percentiles, \n",
    "3.Go through the adjectives, looking for potential attributes   height, weight, etc.\n",
    "4.Allocate methods and attributes to your classes               \n",
    "\n",
    "Class refinement:\n",
    "5.Write down (or dream up) a set of use cases—scenarios of how your program may be used. \n",
    "Try to cover all the functionally.\n",
    "6.Think through every use case step by step, making sure that everything we need is covered.\n",
    "\n",
    "```"
   ]
  },
  {
   "cell_type": "markdown",
   "metadata": {},
   "source": [
    "## API to define rule for the optimization\n",
    "```python\n",
    "dined.set_rule(param=\"Door height\", expression=\">\", percentile=95)\n",
    "```"
   ]
  },
  {
   "cell_type": "code",
   "execution_count": null,
   "metadata": {},
   "outputs": [],
   "source": [
    "class Dined:\n",
    "    def  __init__(self, data):\n",
    "        self.data = data\n",
    "        self.parameter = []\n"
   ]
  },
  {
   "cell_type": "code",
   "execution_count": null,
   "metadata": {},
   "outputs": [],
   "source": [
    "get_design_param(df[\"Stature (mm)\"], \"5%\", 10 )"
   ]
  },
  {
   "cell_type": "code",
   "execution_count": null,
   "metadata": {},
   "outputs": [],
   "source": [
    "for dimension in specs['Dimensions']:\n",
    "    if  dimension == 'Stature (mm)':\n",
    "        print(True)\n",
    "    else: print(False)"
   ]
  },
  {
   "cell_type": "code",
   "execution_count": null,
   "metadata": {},
   "outputs": [],
   "source": [
    "print(id(df))\n",
    "print(id(df_3d))\n"
   ]
  },
  {
   "cell_type": "code",
   "execution_count": null,
   "metadata": {},
   "outputs": [],
   "source": [
    "get_dfs(df, df_3d)"
   ]
  }
 ],
 "metadata": {
  "interpreter": {
   "hash": "075041684cdc4a85a1f571178af584009a5ef7466cc4aef5bb78ae878f194003"
  },
  "kernelspec": {
   "display_name": "Python 3",
   "language": "python",
   "name": "python3"
  },
  "language_info": {
   "codemirror_mode": {
    "name": "ipython",
    "version": 3
   },
   "file_extension": ".py",
   "mimetype": "text/x-python",
   "name": "python",
   "nbconvert_exporter": "python",
   "pygments_lexer": "ipython3",
   "version": "3.9.5"
  }
 },
 "nbformat": 4,
 "nbformat_minor": 2
}
